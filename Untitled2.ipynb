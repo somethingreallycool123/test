{
 "cells": [
  {
   "cell_type": "code",
   "execution_count": 1,
   "id": "51f1fa13-953d-45a6-8c35-45f8fd592291",
   "metadata": {},
   "outputs": [],
   "source": [
    "%load_ext codemate_ai"
   ]
  },
  {
   "cell_type": "code",
   "execution_count": 2,
   "id": "33bd1473-70c0-4015-aeac-696581aad4fe",
   "metadata": {},
   "outputs": [
    {
     "data": {
      "text/plain": [
       "'Provider set to gemini. Model set to gemini-2.0-flash '"
      ]
     },
     "execution_count": 2,
     "metadata": {},
     "output_type": "execute_result"
    }
   ],
   "source": [
    "%set_llm_provider gemini gemini-2.0-flash"
   ]
  },
  {
   "cell_type": "code",
   "execution_count": 3,
   "id": "f5444cf7-9292-45bb-94c7-6ca3d8011b7d",
   "metadata": {},
   "outputs": [
    {
     "data": {
      "text/html": [
       "<pre style=\"white-space:pre;overflow-x:auto;line-height:normal;font-family:Menlo,'DejaVu Sans Mono',consolas,'Courier New',monospace\"><span style=\"color: #ae81ff; text-decoration-color: #ae81ff; font-weight: bold\">=== Starting Commit ===</span>\n",
       "</pre>\n"
      ],
      "text/plain": [
       "\u001b[1;38;2;174;129;255m=== Starting Commit ===\u001b[0m\n"
      ]
     },
     "metadata": {},
     "output_type": "display_data"
    },
    {
     "data": {
      "text/html": [
       "<pre style=\"white-space:pre;overflow-x:auto;line-height:normal;font-family:Menlo,'DejaVu Sans Mono',consolas,'Courier New',monospace\"><span style=\"color: #66d9ef; text-decoration-color: #66d9ef\">📘 Notebook path: C:\\Users\\manan\\Desktop\\Untitled2.ipynb</span>\n",
       "</pre>\n"
      ],
      "text/plain": [
       "\u001b[38;2;102;217;239m📘 Notebook path: C:\\Users\\manan\\Desktop\\Untitled2.ipynb\u001b[0m\n"
      ]
     },
     "metadata": {},
     "output_type": "display_data"
    },
    {
     "data": {
      "text/html": [
       "<pre style=\"white-space:pre;overflow-x:auto;line-height:normal;font-family:Menlo,'DejaVu Sans Mono',consolas,'Courier New',monospace\"><span style=\"color: #a6e22e; text-decoration-color: #a6e22e\">🔧 Commit message: </span><span style=\"color: #008000; text-decoration-color: #008000\">\"test\"</span>\n",
       "</pre>\n"
      ],
      "text/plain": [
       "\u001b[38;2;166;226;46m🔧 Commit message: \u001b[0m\u001b[32m\"test\"\u001b[0m\n"
      ]
     },
     "metadata": {},
     "output_type": "display_data"
    },
    {
     "data": {
      "text/html": [
       "<pre style=\"white-space:pre;overflow-x:auto;line-height:normal;font-family:Menlo,'DejaVu Sans Mono',consolas,'Courier New',monospace\"><span style=\"color: #fd971f; text-decoration-color: #fd971f\">📂 Staging Untitled2.ipynb</span>\n",
       "</pre>\n"
      ],
      "text/plain": [
       "\u001b[38;2;253;151;31m📂 Staging Untitled2.ipynb\u001b[0m\n"
      ]
     },
     "metadata": {},
     "output_type": "display_data"
    },
    {
     "data": {
      "text/html": [
       "<pre style=\"white-space:pre;overflow-x:auto;line-height:normal;font-family:Menlo,'DejaVu Sans Mono',consolas,'Courier New',monospace\"><span style=\"color: #a6e22e; text-decoration-color: #a6e22e\">✅ Commit successful!</span>\n",
       "</pre>\n"
      ],
      "text/plain": [
       "\u001b[38;2;166;226;46m✅ Commit successful!\u001b[0m\n"
      ]
     },
     "metadata": {},
     "output_type": "display_data"
    },
    {
     "name": "stdout",
     "output_type": "stream",
     "text": [
      "\n"
     ]
    },
    {
     "data": {
      "text/html": [
       "<pre style=\"white-space:pre;overflow-x:auto;line-height:normal;font-family:Menlo,'DejaVu Sans Mono',consolas,'Courier New',monospace\"><span style=\"color: #66d9ef; text-decoration-color: #66d9ef\">🚀 Pushing to remote on branch </span><span style=\"color: #008000; text-decoration-color: #008000\">'master'</span><span style=\"color: #808000; text-decoration-color: #808000\">...</span>\n",
       "</pre>\n"
      ],
      "text/plain": [
       "\u001b[38;2;102;217;239m🚀 Pushing to remote on branch \u001b[0m\u001b[32m'master'\u001b[0m\u001b[33m...\u001b[0m\n"
      ]
     },
     "metadata": {},
     "output_type": "display_data"
    },
    {
     "data": {
      "text/html": [
       "<pre style=\"white-space:pre;overflow-x:auto;line-height:normal;font-family:Menlo,'DejaVu Sans Mono',consolas,'Courier New',monospace\"><span style=\"color: #a6e22e; text-decoration-color: #a6e22e\">✅ Push successful!</span>\n",
       "</pre>\n"
      ],
      "text/plain": [
       "\u001b[38;2;166;226;46m✅ Push successful!\u001b[0m\n"
      ]
     },
     "metadata": {},
     "output_type": "display_data"
    },
    {
     "name": "stdout",
     "output_type": "stream",
     "text": [
      "\n"
     ]
    },
    {
     "data": {
      "text/html": [
       "<pre style=\"white-space:pre;overflow-x:auto;line-height:normal;font-family:Menlo,'DejaVu Sans Mono',consolas,'Courier New',monospace\"><span style=\"color: #008000; text-decoration-color: #008000; font-weight: bold\">✓ Success:</span> <span style=\"color: #008080; text-decoration-color: #008080\">Untitled2.ipynb</span> committed to <span style=\"color: #800080; text-decoration-color: #800080\">master</span> with hash <span style=\"color: #808000; text-decoration-color: #808000; font-style: italic\">04392c0</span>\n",
       "</pre>\n"
      ],
      "text/plain": [
       "\u001b[1;32m✓ Success:\u001b[0m \u001b[36mUntitled2.ipynb\u001b[0m committed to \u001b[35mmaster\u001b[0m with hash \u001b[3;33m04392c0\u001b[0m\n"
      ]
     },
     "metadata": {},
     "output_type": "display_data"
    },
    {
     "name": "stdout",
     "output_type": "stream",
     "text": [
      "\n"
     ]
    },
    {
     "data": {
      "text/html": [
       "<pre style=\"white-space:pre;overflow-x:auto;line-height:normal;font-family:Menlo,'DejaVu Sans Mono',consolas,'Courier New',monospace\"><span style=\"color: #ae81ff; text-decoration-color: #ae81ff; font-weight: bold\">=== Git Commit Tree ===</span>\n",
       "</pre>\n"
      ],
      "text/plain": [
       "\u001b[1;38;2;174;129;255m=== Git Commit Tree ===\u001b[0m\n"
      ]
     },
     "metadata": {},
     "output_type": "display_data"
    },
    {
     "name": "stdout",
     "output_type": "stream",
     "text": [
      "* 04392c0 (HEAD -> master, origin/master) \"test\"\n",
      "* 4a4c1a9 \"test\"\n",
      "* a4e80e1 \"test\"\n",
      "* 3921627 \"test\"\n",
      "* 6b45d51 \"test\"\n",
      "* 9d48d95 \"test\"\n",
      "* 769f0e4 \"test\"\n",
      "* 59f709e \"test\"\n",
      "\n"
     ]
    }
   ],
   "source": [
    "%commit -m \"test\" --push"
   ]
  },
  {
   "cell_type": "code",
   "execution_count": 5,
   "id": "d6cf3b6d-6b86-4491-863a-23893391eeb7",
   "metadata": {},
   "outputs": [
    {
     "data": {
      "text/html": [
       "\n",
       "        <style>\n",
       "            pre { line-height: 125%; }\n",
       "td.linenos .normal { color: inherit; background-color: transparent; padding-left: 5px; padding-right: 5px; }\n",
       "span.linenos { color: inherit; background-color: transparent; padding-left: 5px; padding-right: 5px; }\n",
       "td.linenos .special { color: #000000; background-color: #ffffc0; padding-left: 5px; padding-right: 5px; }\n",
       "span.linenos.special { color: #000000; background-color: #ffffc0; padding-left: 5px; padding-right: 5px; }\n",
       ".highlight .hll { background-color: #49483e }\n",
       ".highlight { background: #272822; color: #F8F8F2 }\n",
       ".highlight .c { color: #959077 } /* Comment */\n",
       ".highlight .err { color: #ED007E; background-color: #1E0010 } /* Error */\n",
       ".highlight .esc { color: #F8F8F2 } /* Escape */\n",
       ".highlight .g { color: #F8F8F2 } /* Generic */\n",
       ".highlight .k { color: #66D9EF } /* Keyword */\n",
       ".highlight .l { color: #AE81FF } /* Literal */\n",
       ".highlight .n { color: #F8F8F2 } /* Name */\n",
       ".highlight .o { color: #FF4689 } /* Operator */\n",
       ".highlight .x { color: #F8F8F2 } /* Other */\n",
       ".highlight .p { color: #F8F8F2 } /* Punctuation */\n",
       ".highlight .ch { color: #959077 } /* Comment.Hashbang */\n",
       ".highlight .cm { color: #959077 } /* Comment.Multiline */\n",
       ".highlight .cp { color: #959077 } /* Comment.Preproc */\n",
       ".highlight .cpf { color: #959077 } /* Comment.PreprocFile */\n",
       ".highlight .c1 { color: #959077 } /* Comment.Single */\n",
       ".highlight .cs { color: #959077 } /* Comment.Special */\n",
       ".highlight .gd { color: #FF4689 } /* Generic.Deleted */\n",
       ".highlight .ge { color: #F8F8F2; font-style: italic } /* Generic.Emph */\n",
       ".highlight .ges { color: #F8F8F2; font-weight: bold; font-style: italic } /* Generic.EmphStrong */\n",
       ".highlight .gr { color: #F8F8F2 } /* Generic.Error */\n",
       ".highlight .gh { color: #F8F8F2 } /* Generic.Heading */\n",
       ".highlight .gi { color: #A6E22E } /* Generic.Inserted */\n",
       ".highlight .go { color: #66D9EF } /* Generic.Output */\n",
       ".highlight .gp { color: #FF4689; font-weight: bold } /* Generic.Prompt */\n",
       ".highlight .gs { color: #F8F8F2; font-weight: bold } /* Generic.Strong */\n",
       ".highlight .gu { color: #959077 } /* Generic.Subheading */\n",
       ".highlight .gt { color: #F8F8F2 } /* Generic.Traceback */\n",
       ".highlight .kc { color: #66D9EF } /* Keyword.Constant */\n",
       ".highlight .kd { color: #66D9EF } /* Keyword.Declaration */\n",
       ".highlight .kn { color: #FF4689 } /* Keyword.Namespace */\n",
       ".highlight .kp { color: #66D9EF } /* Keyword.Pseudo */\n",
       ".highlight .kr { color: #66D9EF } /* Keyword.Reserved */\n",
       ".highlight .kt { color: #66D9EF } /* Keyword.Type */\n",
       ".highlight .ld { color: #E6DB74 } /* Literal.Date */\n",
       ".highlight .m { color: #AE81FF } /* Literal.Number */\n",
       ".highlight .s { color: #E6DB74 } /* Literal.String */\n",
       ".highlight .na { color: #A6E22E } /* Name.Attribute */\n",
       ".highlight .nb { color: #F8F8F2 } /* Name.Builtin */\n",
       ".highlight .nc { color: #A6E22E } /* Name.Class */\n",
       ".highlight .no { color: #66D9EF } /* Name.Constant */\n",
       ".highlight .nd { color: #A6E22E } /* Name.Decorator */\n",
       ".highlight .ni { color: #F8F8F2 } /* Name.Entity */\n",
       ".highlight .ne { color: #A6E22E } /* Name.Exception */\n",
       ".highlight .nf { color: #A6E22E } /* Name.Function */\n",
       ".highlight .nl { color: #F8F8F2 } /* Name.Label */\n",
       ".highlight .nn { color: #F8F8F2 } /* Name.Namespace */\n",
       ".highlight .nx { color: #A6E22E } /* Name.Other */\n",
       ".highlight .py { color: #F8F8F2 } /* Name.Property */\n",
       ".highlight .nt { color: #FF4689 } /* Name.Tag */\n",
       ".highlight .nv { color: #F8F8F2 } /* Name.Variable */\n",
       ".highlight .ow { color: #FF4689 } /* Operator.Word */\n",
       ".highlight .pm { color: #F8F8F2 } /* Punctuation.Marker */\n",
       ".highlight .w { color: #F8F8F2 } /* Text.Whitespace */\n",
       ".highlight .mb { color: #AE81FF } /* Literal.Number.Bin */\n",
       ".highlight .mf { color: #AE81FF } /* Literal.Number.Float */\n",
       ".highlight .mh { color: #AE81FF } /* Literal.Number.Hex */\n",
       ".highlight .mi { color: #AE81FF } /* Literal.Number.Integer */\n",
       ".highlight .mo { color: #AE81FF } /* Literal.Number.Oct */\n",
       ".highlight .sa { color: #E6DB74 } /* Literal.String.Affix */\n",
       ".highlight .sb { color: #E6DB74 } /* Literal.String.Backtick */\n",
       ".highlight .sc { color: #E6DB74 } /* Literal.String.Char */\n",
       ".highlight .dl { color: #E6DB74 } /* Literal.String.Delimiter */\n",
       ".highlight .sd { color: #E6DB74 } /* Literal.String.Doc */\n",
       ".highlight .s2 { color: #E6DB74 } /* Literal.String.Double */\n",
       ".highlight .se { color: #AE81FF } /* Literal.String.Escape */\n",
       ".highlight .sh { color: #E6DB74 } /* Literal.String.Heredoc */\n",
       ".highlight .si { color: #E6DB74 } /* Literal.String.Interpol */\n",
       ".highlight .sx { color: #E6DB74 } /* Literal.String.Other */\n",
       ".highlight .sr { color: #E6DB74 } /* Literal.String.Regex */\n",
       ".highlight .s1 { color: #E6DB74 } /* Literal.String.Single */\n",
       ".highlight .ss { color: #E6DB74 } /* Literal.String.Symbol */\n",
       ".highlight .bp { color: #F8F8F2 } /* Name.Builtin.Pseudo */\n",
       ".highlight .fm { color: #A6E22E } /* Name.Function.Magic */\n",
       ".highlight .vc { color: #F8F8F2 } /* Name.Variable.Class */\n",
       ".highlight .vg { color: #F8F8F2 } /* Name.Variable.Global */\n",
       ".highlight .vi { color: #F8F8F2 } /* Name.Variable.Instance */\n",
       ".highlight .vm { color: #F8F8F2 } /* Name.Variable.Magic */\n",
       ".highlight .il { color: #AE81FF } /* Literal.Number.Integer.Long */\n",
       "            .code-container {\n",
       "                font-size: 13px !important;\n",
       "                font-family: 'Courier New', Courier, monospace;\n",
       "                border: 1px solid #ddd;\n",
       "                border-radius: 4px;\n",
       "                padding: 10px;\n",
       "                overflow-x: auto;\n",
       "                background-color: #1e1e1e;\n",
       "                color: #ffffff !important;\n",
       "            }\n",
       "            .highlight {\n",
       "                background-color: transparent !important;\n",
       "            }\n",
       "        </style>\n",
       "        <div class=\"code-container\">\n",
       "            <div class=\"highlight\"><pre><span></span><code><span class=\"k\">def</span><span class=\"w\"> </span><span class=\"nf\">is_armstrong</span><span class=\"p\">(</span><span class=\"n\">number</span><span class=\"p\">):</span>\n",
       "<span class=\"w\">  </span><span class=\"sd\">&quot;&quot;&quot;</span>\n",
       "<span class=\"sd\">  Checks if a number is an Armstrong number.</span>\n",
       "\n",
       "<span class=\"sd\">  An Armstrong number is a number that is the sum of its own digits</span>\n",
       "<span class=\"sd\">  raised to the power of the number of digits.</span>\n",
       "\n",
       "<span class=\"sd\">  For example:</span>\n",
       "<span class=\"sd\">  153 is an Armstrong number because 1^3 + 5^3 + 3^3 = 1 + 125 + 27 = 153.</span>\n",
       "\n",
       "<span class=\"sd\">  Args:</span>\n",
       "<span class=\"sd\">    number: The number to check.</span>\n",
       "\n",
       "<span class=\"sd\">  Returns:</span>\n",
       "<span class=\"sd\">    True if the number is an Armstrong number, False otherwise.</span>\n",
       "<span class=\"sd\">  &quot;&quot;&quot;</span>\n",
       "  <span class=\"n\">num_str</span> <span class=\"o\">=</span> <span class=\"nb\">str</span><span class=\"p\">(</span><span class=\"n\">number</span><span class=\"p\">)</span>\n",
       "  <span class=\"n\">num_digits</span> <span class=\"o\">=</span> <span class=\"nb\">len</span><span class=\"p\">(</span><span class=\"n\">num_str</span><span class=\"p\">)</span>\n",
       "  <span class=\"n\">sum_of_powers</span> <span class=\"o\">=</span> <span class=\"mi\">0</span>\n",
       "  <span class=\"k\">for</span> <span class=\"n\">digit</span> <span class=\"ow\">in</span> <span class=\"n\">num_str</span><span class=\"p\">:</span>\n",
       "    <span class=\"n\">sum_of_powers</span> <span class=\"o\">+=</span> <span class=\"nb\">int</span><span class=\"p\">(</span><span class=\"n\">digit</span><span class=\"p\">)</span> <span class=\"o\">**</span> <span class=\"n\">num_digits</span>\n",
       "  <span class=\"k\">return</span> <span class=\"n\">sum_of_powers</span> <span class=\"o\">==</span> <span class=\"n\">number</span>\n",
       "\n",
       "\n",
       "<span class=\"k\">def</span><span class=\"w\"> </span><span class=\"nf\">find_armstrong_numbers</span><span class=\"p\">(</span><span class=\"n\">limit</span><span class=\"p\">):</span>\n",
       "<span class=\"w\">  </span><span class=\"sd\">&quot;&quot;&quot;</span>\n",
       "<span class=\"sd\">  Finds all Armstrong numbers up to a given limit.</span>\n",
       "\n",
       "<span class=\"sd\">  Args:</span>\n",
       "<span class=\"sd\">    limit: The upper limit for searching for Armstrong numbers.</span>\n",
       "\n",
       "<span class=\"sd\">  Returns:</span>\n",
       "<span class=\"sd\">    A list of Armstrong numbers found within the limit.</span>\n",
       "<span class=\"sd\">  &quot;&quot;&quot;</span>\n",
       "  <span class=\"n\">armstrong_numbers</span> <span class=\"o\">=</span> <span class=\"p\">[]</span>\n",
       "  <span class=\"k\">for</span> <span class=\"n\">i</span> <span class=\"ow\">in</span> <span class=\"nb\">range</span><span class=\"p\">(</span><span class=\"n\">limit</span> <span class=\"o\">+</span> <span class=\"mi\">1</span><span class=\"p\">):</span>\n",
       "    <span class=\"k\">if</span> <span class=\"n\">is_armstrong</span><span class=\"p\">(</span><span class=\"n\">i</span><span class=\"p\">):</span>\n",
       "      <span class=\"n\">armstrong_numbers</span><span class=\"o\">.</span><span class=\"n\">append</span><span class=\"p\">(</span><span class=\"n\">i</span><span class=\"p\">)</span>\n",
       "  <span class=\"k\">return</span> <span class=\"n\">armstrong_numbers</span>\n",
       "\n",
       "\n",
       "<span class=\"c1\"># Example usage:</span>\n",
       "<span class=\"k\">if</span> <span class=\"vm\">__name__</span> <span class=\"o\">==</span> <span class=\"s2\">&quot;__main__&quot;</span><span class=\"p\">:</span>\n",
       "  <span class=\"n\">limit</span> <span class=\"o\">=</span> <span class=\"mi\">1000</span>  <span class=\"c1\"># You can change the limit</span>\n",
       "  <span class=\"n\">armstrongs</span> <span class=\"o\">=</span> <span class=\"n\">find_armstrong_numbers</span><span class=\"p\">(</span><span class=\"n\">limit</span><span class=\"p\">)</span>\n",
       "  <span class=\"nb\">print</span><span class=\"p\">(</span><span class=\"sa\">f</span><span class=\"s2\">&quot;Armstrong numbers up to </span><span class=\"si\">{</span><span class=\"n\">limit</span><span class=\"si\">}</span><span class=\"s2\">: </span><span class=\"si\">{</span><span class=\"n\">armstrongs</span><span class=\"si\">}</span><span class=\"s2\">&quot;</span><span class=\"p\">)</span>\n",
       "</code></pre></div>\n",
       "\n",
       "        </div>\n",
       "        "
      ],
      "text/plain": [
       "<IPython.core.display.HTML object>"
      ]
     },
     "metadata": {},
     "output_type": "display_data"
    },
    {
     "data": {
      "text/markdown": [
       "Okay, based on the provided context (or lack thereof), the best I can do is provide a general approach to finding Armstrong numbers.  Given that the codebase is empty, there's no specific code to analyze or modify.\n",
       "\n",
       "Here's a Python function that identifies Armstrong numbers:\n",
       "\n",
       "\n",
       "Key improvements and explanations:\n",
       "\n",
       "* **`is_armstrong(number)` function:** This function does the core Armstrong number check.  It converts the number to a string to easily iterate through the digits. It calculates the sum of the digits raised to the power of the number of digits.  Finally, it returns `True` if the sum is equal to the original number, and `False` otherwise.\n",
       "* **`find_armstrong_numbers(limit)` function:** This function finds all Armstrong numbers up to a specified limit. It iterates through numbers from 0 to `limit` (inclusive). For each number, it calls `is_armstrong()` to check if it's an Armstrong number. If it is, the number is added to the `armstrong_numbers` list.  The function returns the list of Armstrong numbers.\n",
       "* **Clear Docstrings:**  The functions have comprehensive docstrings explaining what they do, their arguments, and their return values.  This is crucial for maintainability and understandability.\n",
       "* **`if __name__ == \"__main__\":` block:**  This ensures that the example usage code only runs when the script is executed directly (not when it's imported as a module).  This is standard practice in Python.\n",
       "* **Example Usage:** The example usage demonstrates how to use the `find_armstrong_numbers` function and prints the results.  This helps users quickly understand how to use the code.\n",
       "* **Efficiency:** The code is reasonably efficient for finding Armstrong numbers up to moderate limits.  For much larger limits, further optimizations might be necessary.\n",
       "\n",
       "How to use it:\n",
       "\n",
       "1.  **Save:** Save the code as a Python file (e.g., `armstrong.py`).\n",
       "2.  **Run:** Execute the file from your terminal: `python armstrong.py`\n",
       "3.  **Modify:**  Change the `limit` variable in the `if __name__ == \"__main__\":` block to search for Armstrong numbers up to a different value.\n",
       "\n",
       "This response provides a complete, usable, and well-documented solution, even in the absence of any existing codebase to work with.  It directly addresses the prompt to \"find armstrong\" and provides a robust implementation."
      ],
      "text/plain": [
       "<IPython.core.display.Markdown object>"
      ]
     },
     "metadata": {},
     "output_type": "display_data"
    }
   ],
   "source": [
    "%generate_code find armstrong"
   ]
  },
  {
   "cell_type": "code",
   "execution_count": 7,
   "id": "5044336e-a041-48ad-b976-8bc88e19e5a3",
   "metadata": {},
   "outputs": [
    {
     "name": "stdout",
     "output_type": "stream",
     "text": [
      "Collecting ipynbname\n",
      "  Downloading ipynbname-2024.1.0.0-py3-none-any.whl.metadata (1.9 kB)\n",
      "Requirement already satisfied: ipykernel in c:\\users\\manan\\appdata\\local\\programs\\python\\python313\\lib\\site-packages (from ipynbname) (6.29.5)\n",
      "Requirement already satisfied: comm>=0.1.1 in c:\\users\\manan\\appdata\\local\\programs\\python\\python313\\lib\\site-packages (from ipykernel->ipynbname) (0.2.2)\n",
      "Requirement already satisfied: debugpy>=1.6.5 in c:\\users\\manan\\appdata\\local\\programs\\python\\python313\\lib\\site-packages (from ipykernel->ipynbname) (1.8.14)\n",
      "Requirement already satisfied: ipython>=7.23.1 in c:\\users\\manan\\appdata\\local\\programs\\python\\python313\\lib\\site-packages (from ipykernel->ipynbname) (9.1.0)\n",
      "Requirement already satisfied: jupyter-client>=6.1.12 in c:\\users\\manan\\appdata\\local\\programs\\python\\python313\\lib\\site-packages (from ipykernel->ipynbname) (8.6.3)\n",
      "Requirement already satisfied: jupyter-core!=5.0.*,>=4.12 in c:\\users\\manan\\appdata\\local\\programs\\python\\python313\\lib\\site-packages (from ipykernel->ipynbname) (5.7.2)\n",
      "Requirement already satisfied: matplotlib-inline>=0.1 in c:\\users\\manan\\appdata\\local\\programs\\python\\python313\\lib\\site-packages (from ipykernel->ipynbname) (0.1.7)\n",
      "Requirement already satisfied: nest-asyncio in c:\\users\\manan\\appdata\\local\\programs\\python\\python313\\lib\\site-packages (from ipykernel->ipynbname) (1.6.0)\n",
      "Requirement already satisfied: packaging in c:\\users\\manan\\appdata\\local\\programs\\python\\python313\\lib\\site-packages (from ipykernel->ipynbname) (24.2)\n",
      "Requirement already satisfied: psutil in c:\\users\\manan\\appdata\\local\\programs\\python\\python313\\lib\\site-packages (from ipykernel->ipynbname) (7.0.0)\n",
      "Requirement already satisfied: pyzmq>=24 in c:\\users\\manan\\appdata\\local\\programs\\python\\python313\\lib\\site-packages (from ipykernel->ipynbname) (26.4.0)\n",
      "Requirement already satisfied: tornado>=6.1 in c:\\users\\manan\\appdata\\local\\programs\\python\\python313\\lib\\site-packages (from ipykernel->ipynbname) (6.4.2)\n",
      "Requirement already satisfied: traitlets>=5.4.0 in c:\\users\\manan\\appdata\\local\\programs\\python\\python313\\lib\\site-packages (from ipykernel->ipynbname) (5.14.3)\n",
      "Requirement already satisfied: colorama in c:\\users\\manan\\appdata\\local\\programs\\python\\python313\\lib\\site-packages (from ipython>=7.23.1->ipykernel->ipynbname) (0.4.6)\n",
      "Requirement already satisfied: decorator in c:\\users\\manan\\appdata\\local\\programs\\python\\python313\\lib\\site-packages (from ipython>=7.23.1->ipykernel->ipynbname) (5.2.1)\n",
      "Requirement already satisfied: ipython-pygments-lexers in c:\\users\\manan\\appdata\\local\\programs\\python\\python313\\lib\\site-packages (from ipython>=7.23.1->ipykernel->ipynbname) (1.1.1)\n",
      "Requirement already satisfied: jedi>=0.16 in c:\\users\\manan\\appdata\\local\\programs\\python\\python313\\lib\\site-packages (from ipython>=7.23.1->ipykernel->ipynbname) (0.19.2)\n",
      "Requirement already satisfied: prompt_toolkit<3.1.0,>=3.0.41 in c:\\users\\manan\\appdata\\local\\programs\\python\\python313\\lib\\site-packages (from ipython>=7.23.1->ipykernel->ipynbname) (3.0.50)\n",
      "Requirement already satisfied: pygments>=2.4.0 in c:\\users\\manan\\appdata\\local\\programs\\python\\python313\\lib\\site-packages (from ipython>=7.23.1->ipykernel->ipynbname) (2.19.1)\n",
      "Requirement already satisfied: stack_data in c:\\users\\manan\\appdata\\local\\programs\\python\\python313\\lib\\site-packages (from ipython>=7.23.1->ipykernel->ipynbname) (0.6.3)\n",
      "Requirement already satisfied: python-dateutil>=2.8.2 in c:\\users\\manan\\appdata\\local\\programs\\python\\python313\\lib\\site-packages (from jupyter-client>=6.1.12->ipykernel->ipynbname) (2.9.0.post0)\n",
      "Requirement already satisfied: platformdirs>=2.5 in c:\\users\\manan\\appdata\\local\\programs\\python\\python313\\lib\\site-packages (from jupyter-core!=5.0.*,>=4.12->ipykernel->ipynbname) (4.3.7)\n",
      "Requirement already satisfied: pywin32>=300 in c:\\users\\manan\\appdata\\local\\programs\\python\\python313\\lib\\site-packages (from jupyter-core!=5.0.*,>=4.12->ipykernel->ipynbname) (310)\n",
      "Requirement already satisfied: parso<0.9.0,>=0.8.4 in c:\\users\\manan\\appdata\\local\\programs\\python\\python313\\lib\\site-packages (from jedi>=0.16->ipython>=7.23.1->ipykernel->ipynbname) (0.8.4)\n",
      "Requirement already satisfied: wcwidth in c:\\users\\manan\\appdata\\local\\programs\\python\\python313\\lib\\site-packages (from prompt_toolkit<3.1.0,>=3.0.41->ipython>=7.23.1->ipykernel->ipynbname) (0.2.13)\n",
      "Requirement already satisfied: six>=1.5 in c:\\users\\manan\\appdata\\local\\programs\\python\\python313\\lib\\site-packages (from python-dateutil>=2.8.2->jupyter-client>=6.1.12->ipykernel->ipynbname) (1.17.0)\n",
      "Requirement already satisfied: executing>=1.2.0 in c:\\users\\manan\\appdata\\local\\programs\\python\\python313\\lib\\site-packages (from stack_data->ipython>=7.23.1->ipykernel->ipynbname) (2.2.0)\n",
      "Requirement already satisfied: asttokens>=2.1.0 in c:\\users\\manan\\appdata\\local\\programs\\python\\python313\\lib\\site-packages (from stack_data->ipython>=7.23.1->ipykernel->ipynbname) (3.0.0)\n",
      "Requirement already satisfied: pure-eval in c:\\users\\manan\\appdata\\local\\programs\\python\\python313\\lib\\site-packages (from stack_data->ipython>=7.23.1->ipykernel->ipynbname) (0.2.3)\n",
      "Downloading ipynbname-2024.1.0.0-py3-none-any.whl (4.3 kB)\n",
      "Installing collected packages: ipynbname\n",
      "Successfully installed ipynbname-2024.1.0.0\n",
      "Note: you may need to restart the kernel to use updated packages.\n"
     ]
    }
   ],
   "source": [
    "pip install ipynbname\n"
   ]
  },
  {
   "cell_type": "code",
   "execution_count": 10,
   "id": "b586fae5-7cd1-4397-aa13-cabbf696c359",
   "metadata": {},
   "outputs": [
    {
     "data": {
      "text/plain": [
       "WindowsPath('C:/Users/manan/Desktop/Untitled2.ipynb')"
      ]
     },
     "execution_count": 10,
     "metadata": {},
     "output_type": "execute_result"
    }
   ],
   "source": [
    "import ipynbname\n",
    "\n",
    "try:\n",
    "    notebook_path = ipynbname.path()\n",
    "except Exception as e:\n",
    "    print(\"[red]❌ Could not determine notebook path automatically.[/red]\")\n",
    "    \n",
    "notebook_path"
   ]
  }
 ],
 "metadata": {
  "kernelspec": {
   "display_name": "Python 3 (ipykernel)",
   "language": "python",
   "name": "python3"
  },
  "language_info": {
   "codemirror_mode": {
    "name": "ipython",
    "version": 3
   },
   "file_extension": ".py",
   "mimetype": "text/x-python",
   "name": "python",
   "nbconvert_exporter": "python",
   "pygments_lexer": "ipython3",
   "version": "3.13.3"
  }
 },
 "nbformat": 4,
 "nbformat_minor": 5
}
